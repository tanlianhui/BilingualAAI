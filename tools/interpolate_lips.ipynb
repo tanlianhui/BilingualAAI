{
 "cells": [
  {
   "cell_type": "code",
   "execution_count": 6,
   "metadata": {},
   "outputs": [],
   "source": [
    "import pandas as pd\n",
    "import numpy as np\n",
    "import os\n",
    "import re"
   ]
  },
  {
   "cell_type": "markdown",
   "metadata": {},
   "source": [
    "# As a function"
   ]
  },
  {
   "cell_type": "code",
   "execution_count": 7,
   "metadata": {},
   "outputs": [],
   "source": [
    "def interpolate(file_path):\n",
    "    df = pd.read_csv(file_path, skiprows=[0,1])\n",
    "    # skip first column\n",
    "    df = df.iloc[:, 1:]\n",
    "\n",
    "    skip = []\n",
    "    next_id = []\n",
    "    for col in range(2,25,3):\n",
    "        for row in range(df.shape[0]):\n",
    "            if row in skip:\n",
    "                continue\n",
    "            # previous threshold\n",
    "            if df.iloc[row,col] < 0.8:\n",
    "                prev_id = row-1\n",
    "                # next threshold\n",
    "                ct = 1\n",
    "                while True:\n",
    "                    try:\n",
    "                        if df.iloc[row+ct,col] < 0.8:\n",
    "                            skip.append(row+ct) # this row is consecutively < 0.8\n",
    "                            ct+=1\n",
    "                        else:\n",
    "                            ls = [prev_id, row+ct, col-2, col-1]\n",
    "                            next_id.append(ls)\n",
    "                            break\n",
    "                    except IndexError:\n",
    "                        break\n",
    "\n",
    "    df_new = df\n",
    "    for i in next_id:\n",
    "        gap = i[1] - i[0]\n",
    "        x_diff = df_new.iloc[i[1], i[2]] - df_new.iloc[i[0], i[2]]\n",
    "        y_diff = df_new.iloc[i[1], i[3]] - df_new.iloc[i[0], i[3]]\n",
    "        # print(gap, x_diff, y_diff)\n",
    "        x_step = x_diff / gap\n",
    "        y_step = y_diff / gap\n",
    "        for j in range(1,gap):\n",
    "            df_new.iloc[i[0]+j, i[2]] = df_new.iloc[i[0], i[2]] + x_step*j\n",
    "            df_new.iloc[i[0]+j, i[3]] = df_new.iloc[i[0], i[3]] + y_step*j\n",
    "            # print(i[0]+j, i[2])\n",
    "    \n",
    "    return df_new"
   ]
  },
  {
   "cell_type": "markdown",
   "metadata": {},
   "source": [
    "# Loop"
   ]
  },
  {
   "cell_type": "code",
   "execution_count": 8,
   "metadata": {},
   "outputs": [],
   "source": [
    "folder = input(\"such as: Eng\")"
   ]
  },
  {
   "cell_type": "code",
   "execution_count": 9,
   "metadata": {},
   "outputs": [],
   "source": [
    "directory = \"./CSVs/\" + folder + '/'\n",
    "csv_ls = os.listdir(directory)"
   ]
  },
  {
   "cell_type": "code",
   "execution_count": 10,
   "metadata": {},
   "outputs": [],
   "source": [
    "for i in csv_ls:\n",
    "    file = re.search('(Eng)?(Mand)?(_US)?\\d{3}(_\\d)?', i)[0]\n",
    "    i_full = directory + i\n",
    "    output = interpolate(i_full)\n",
    "    # Save the updated DataFrame to a new CSV file or overwrite the existing one if needed\n",
    "    output.to_csv('./normalized_csv/' + folder + '/' + file + '_interpolated.csv')"
   ]
  }
 ],
 "metadata": {
  "kernelspec": {
   "display_name": "Python 3",
   "language": "python",
   "name": "python3"
  },
  "language_info": {
   "codemirror_mode": {
    "name": "ipython",
    "version": 3
   },
   "file_extension": ".py",
   "mimetype": "text/x-python",
   "name": "python",
   "nbconvert_exporter": "python",
   "pygments_lexer": "ipython3",
   "version": "3.10.5"
  },
  "orig_nbformat": 4
 },
 "nbformat": 4,
 "nbformat_minor": 2
}
